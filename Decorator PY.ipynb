{
 "cells": [
  {
   "cell_type": "code",
   "execution_count": 4,
   "metadata": {
    "collapsed": false
   },
   "outputs": [
    {
     "name": "stdout",
     "output_type": "stream",
     "text": [
      "5\n"
     ]
    }
   ],
   "source": [
    "##In Python, functions are first-class objects. \n",
    "#This means that functions can be passed around, and used as arguments, just like any other value (e.g, string, int, float)\n",
    "\n",
    "def foo(a):\n",
    "    return a+1\n",
    "\n",
    "def roo(foo,arg):\n",
    "    \n",
    "    return foo(arg)\n",
    "\n",
    "print(roo(foo,4))"
   ]
  },
  {
   "cell_type": "code",
   "execution_count": 36,
   "metadata": {
    "collapsed": false
   },
   "outputs": [],
   "source": [
    "#The method being first class, methods can be defined inside the first class method. They are called nested methods\n",
    "#but when you call second as a seprate one it doesn't work\n",
    "#just like I can use first class functions as parameters to pass to another method I can return the methods same way\n",
    "#while returning if only second was given then second would include the address of the seccond function while () gives and calls the function\n",
    "\n",
    "\n",
    "def parent():\n",
    "    print(\"printing the first line\")\n",
    "    def second():\n",
    "        return \"defining the second\"\n",
    "    return(second())  \n",
    "    "
   ]
  },
  {
   "cell_type": "code",
   "execution_count": 37,
   "metadata": {
    "collapsed": false
   },
   "outputs": [
    {
     "name": "stdout",
     "output_type": "stream",
     "text": [
      "printing the first line\n",
      "defining the second\n"
     ]
    }
   ],
   "source": [
    "print(parent())"
   ]
  },
  {
   "cell_type": "code",
   "execution_count": 59,
   "metadata": {
    "collapsed": false
   },
   "outputs": [
    {
     "name": "stdout",
     "output_type": "stream",
     "text": [
      "The numbers not matching\n"
     ]
    }
   ],
   "source": [
    "#now let us look at decorator\n",
    "#The task of a decorator function is to modify the function of what it works\n",
    "#decorator is used to change the behaviour of the function altogether\n",
    "\n",
    "\n",
    "def mydecorator(some_function=None):\n",
    "    \n",
    "    def wrapper():\n",
    "        num=12\n",
    "        try:\n",
    "            assert(num==10)\n",
    "            print(\"Before some function working\")\n",
    "            some_function()\n",
    "            print(\"After some fucntion working\")\n",
    "        except AssertionError:\n",
    "            print(\"The numbers not matching\")\n",
    "    return wrapper\n",
    "\n",
    "def some_other_function():\n",
    "    print(\"Whee\")\n",
    "    \n",
    "    \n",
    "if __name__==\"__main__\":\n",
    "    some_other_function=mydecorator(some_other_function)\n",
    "    some_other_function()\n",
    "    "
   ]
  },
  {
   "cell_type": "code",
   "execution_count": 19,
   "metadata": {
    "collapsed": false
   },
   "outputs": [
    {
     "name": "stdout",
     "output_type": "stream",
     "text": [
      "Printing from the parent() function.\n",
      "Printing from the first_child() function.\n",
      "Printing from the second_child() function.\n"
     ]
    }
   ],
   "source": [
    "parent()"
   ]
  },
  {
   "cell_type": "code",
   "execution_count": 47,
   "metadata": {
    "collapsed": true
   },
   "outputs": [],
   "source": [
    "#Now let us look at a different way of calling a decorator\n",
    "#Python allows you to simplify the calling of decorators using the @ symbol (this is called “pie” syntax)."
   ]
  },
  {
   "cell_type": "code",
   "execution_count": 60,
   "metadata": {
    "collapsed": false
   },
   "outputs": [
    {
     "ename": "ImportError",
     "evalue": "No module named 'mydecorator'",
     "output_type": "error",
     "traceback": [
      "\u001b[0;31m---------------------------------------------------------------------------\u001b[0m",
      "\u001b[0;31mImportError\u001b[0m                               Traceback (most recent call last)",
      "\u001b[0;32m<ipython-input-60-2bad9af3e05f>\u001b[0m in \u001b[0;36m<module>\u001b[0;34m()\u001b[0m\n\u001b[0;32m----> 1\u001b[0;31m \u001b[1;32mimport\u001b[0m \u001b[0mmydecorator\u001b[0m\u001b[1;33m\u001b[0m\u001b[0m\n\u001b[0m\u001b[1;32m      2\u001b[0m \u001b[1;33m\u001b[0m\u001b[0m\n\u001b[1;32m      3\u001b[0m \u001b[1;33m@\u001b[0m\u001b[0mmydecorator\u001b[0m\u001b[1;33m\u001b[0m\u001b[0m\n\u001b[1;32m      4\u001b[0m \u001b[1;32mdef\u001b[0m \u001b[0msome_other_function\u001b[0m\u001b[1;33m(\u001b[0m\u001b[1;33m)\u001b[0m\u001b[1;33m:\u001b[0m\u001b[1;33m\u001b[0m\u001b[0m\n\u001b[1;32m      5\u001b[0m     \u001b[0mprint\u001b[0m\u001b[1;33m(\u001b[0m\u001b[1;34m\"Whee\"\u001b[0m\u001b[1;33m)\u001b[0m\u001b[1;33m\u001b[0m\u001b[0m\n",
      "\u001b[0;31mImportError\u001b[0m: No module named 'mydecorator'"
     ]
    }
   ],
   "source": [
    "import mydecorator\n",
    "\n",
    "@mydecorator\n",
    "def some_other_function():\n",
    "    print(\"Whee\")\n",
    "    \n",
    "some_other_function()  \n",
    "#@my_decorator is just an easier way of saying just_some_function = my_decorator(just_some_function)\n"
   ]
  },
  {
   "cell_type": "code",
   "execution_count": null,
   "metadata": {
    "collapsed": true
   },
   "outputs": [],
   "source": []
  }
 ],
 "metadata": {
  "anaconda-cloud": {},
  "kernelspec": {
   "display_name": "Python [default]",
   "language": "python",
   "name": "python3"
  },
  "language_info": {
   "codemirror_mode": {
    "name": "ipython",
    "version": 3
   },
   "file_extension": ".py",
   "mimetype": "text/x-python",
   "name": "python",
   "nbconvert_exporter": "python",
   "pygments_lexer": "ipython3",
   "version": "3.5.2"
  }
 },
 "nbformat": 4,
 "nbformat_minor": 2
}
